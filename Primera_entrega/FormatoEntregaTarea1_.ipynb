{
  "cells": [
    {
      "cell_type": "markdown",
      "metadata": {
        "id": "ZEZNKWfTUp5Z"
      },
      "source": [
        "#  TAREA 1\n",
        "\n",
        "Aprendizaje de Máquina\n",
        "\n",
        "Profesor: felpalta@uao.edu.co\n",
        "\n",
        "--------------------------------------------------------------------------------\n",
        "*   Nombre :Miguel Angel Jimenez Trochez\n",
        "*   Correo :miguel.jimenez@uao.edu.co\n",
        "\n",
        "\n"
      ]
    },
    {
      "cell_type": "code",
      "source": [],
      "metadata": {
        "id": "WSPkHVvarRU1"
      },
      "execution_count": null,
      "outputs": []
    }
  ],
  "metadata": {
    "colab": {
      "provenance": []
    },
    "kernelspec": {
      "display_name": "Python 3",
      "name": "python3"
    },
    "language_info": {
      "name": "python"
    }
  },
  "nbformat": 4,
  "nbformat_minor": 0
}