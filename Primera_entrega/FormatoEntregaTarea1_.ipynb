{
  "cells": [
    {
      "cell_type": "markdown",
      "metadata": {
        "id": "ZEZNKWfTUp5Z"
      },
      "source": [
        "#  TAREA 1\n",
        "\n",
        "Aprendizaje de Máquina\n",
        "\n",
        "Profesor: felpalta@uao.edu.co\n",
        "\n",
        "--------------------------------------------------------------------------------\n",
        "*   Nombre :\n",
        "*   Correo :\n",
        "\n"
      ]
    }
  ],
  "metadata": {
    "colab": {
      "provenance": []
    },
    "kernelspec": {
      "display_name": "Python 3",
      "name": "python3"
    },
    "language_info": {
      "name": "python"
    }
  },
  "nbformat": 4,
  "nbformat_minor": 0
}